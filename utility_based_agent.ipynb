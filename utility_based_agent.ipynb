{
  "nbformat": 4,
  "nbformat_minor": 0,
  "metadata": {
    "colab": {
      "provenance": [],
      "include_colab_link": true
    },
    "kernelspec": {
      "name": "python3",
      "display_name": "Python 3"
    },
    "language_info": {
      "name": "python"
    }
  },
  "cells": [
    {
      "cell_type": "markdown",
      "metadata": {
        "id": "view-in-github",
        "colab_type": "text"
      },
      "source": [
        "<a href=\"https://colab.research.google.com/github/SumiranD/AI_Lab_Agents/blob/main/utility_based_agent.ipynb\" target=\"_parent\"><img src=\"https://colab.research.google.com/assets/colab-badge.svg\" alt=\"Open In Colab\"/></a>"
      ]
    },
    {
      "cell_type": "code",
      "execution_count": null,
      "metadata": {
        "colab": {
          "base_uri": "https://localhost:8080/"
        },
        "id": "a7cz-O4yL-6r",
        "outputId": "828786a9-efb2-4830-aa99-5416c836bd85"
      },
      "outputs": [
        {
          "output_type": "stream",
          "name": "stdout",
          "text": [
            "Initial Grid State:\n",
            "C D C\n",
            "D C D\n",
            "C D C\n",
            "\n",
            "Final Grid State:\n",
            "C C C\n",
            "C C C\n",
            "C C C\n",
            "\n",
            "Actions Taken:\n",
            "Move from (0, 0) to (0, 1)\n",
            "Clean at (0, 1)\n",
            "Move from (0, 1) to (1, 1)\n",
            "Move from (1, 1) to (1, 0)\n",
            "Clean at (1, 0)\n",
            "Move from (1, 0) to (1, 1)\n",
            "Move from (1, 1) to (1, 2)\n",
            "Clean at (1, 2)\n",
            "Move from (1, 2) to (2, 2)\n",
            "Move from (2, 2) to (2, 1)\n",
            "Clean at (2, 1)\n",
            "Total Utility: 13\n"
          ]
        }
      ],
      "source": [
        "import heapq\n",
        "\n",
        "class VacuumAgent:\n",
        "    def __init__(self, grid, start_pos=(0, 0)):\n",
        "        self.grid = grid  # 2D list of cells: 'D' = dirty, 'C' = clean\n",
        "        self.pos = start_pos\n",
        "        self.utility = 0\n",
        "        self.actions = []\n",
        "\n",
        "    def print_grid(self):\n",
        "        for row in self.grid:\n",
        "            print(\" \".join(row))\n",
        "        print()\n",
        "\n",
        "    def is_dirty(self, x, y):\n",
        "        return self.grid[x][y] == 'D'\n",
        "\n",
        "    def clean(self, x, y):\n",
        "        self.grid[x][y] = 'C'\n",
        "        self.utility += 5\n",
        "        self.actions.append(f\"Clean at ({x}, {y})\")\n",
        "\n",
        "    def move(self, new_x, new_y):\n",
        "        self.utility -= 1\n",
        "        self.actions.append(f\"Move from ({self.pos[0]}, {self.pos[1]}) to ({new_x}, {new_y})\")\n",
        "        self.pos = (new_x, new_y)\n",
        "\n",
        "    def find_all_dirty_cells(self):\n",
        "        dirty = []\n",
        "        for i in range(len(self.grid)):\n",
        "            for j in range(len(self.grid[0])):\n",
        "                if self.grid[i][j] == 'D':\n",
        "                    dirty.append((i, j))\n",
        "        return dirty\n",
        "\n",
        "    def manhattan_distance(self, a, b):\n",
        "        return abs(a[0] - b[0]) + abs(a[1] - b[1])\n",
        "\n",
        "    def find_next_best_cell(self):\n",
        "        dirty_cells = self.find_all_dirty_cells()\n",
        "        if not dirty_cells:\n",
        "            return None\n",
        "        # Choose the dirty cell with maximum utility: (5 - distance)\n",
        "        best_cell = max(dirty_cells, key=lambda cell: 5 - self.manhattan_distance(self.pos, cell))\n",
        "        return best_cell\n",
        "\n",
        "    def go_to_cell(self, target):\n",
        "        # Simple Manhattan movement (not optimal pathfinding)\n",
        "        x, y = self.pos\n",
        "        tx, ty = target\n",
        "        while x != tx:\n",
        "            x += 1 if tx > x else -1\n",
        "            self.move(x, y)\n",
        "        while y != ty:\n",
        "            y += 1 if ty > y else -1\n",
        "            self.move(x, y)\n",
        "\n",
        "    def run(self):\n",
        "        print(\"Initial Grid State:\")\n",
        "        self.print_grid()\n",
        "\n",
        "        while True:\n",
        "            target = self.find_next_best_cell()\n",
        "            if not target:\n",
        "                break\n",
        "            self.go_to_cell(target)\n",
        "            self.clean(*target)\n",
        "\n",
        "        print(\"Final Grid State:\")\n",
        "        self.print_grid()\n",
        "        print(\"Actions Taken:\")\n",
        "        for action in self.actions:\n",
        "            print(action)\n",
        "        print(f\"Total Utility: {self.utility}\")\n",
        "\n",
        "# Example Grid:\n",
        "# D = Dirty, C = Clean\n",
        "grid = [\n",
        "    ['C', 'D', 'C'],\n",
        "    ['D', 'C', 'D'],\n",
        "    ['C', 'D', 'C']\n",
        "]\n",
        "\n",
        "agent = VacuumAgent(grid, start_pos=(0, 0))\n",
        "agent.run()\n"
      ]
    }
  ]
}